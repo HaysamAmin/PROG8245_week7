{
 "cells": [
  {
   "cell_type": "markdown",
   "metadata": {},
   "source": [
    "# 🏡 Min-Max Normalization Workshop\n",
    "## Team Name: \n",
    "## Team Members: \n",
    "---"
   ]
  },
  {
   "cell_type": "markdown",
   "metadata": {},
   "source": [
    "## ❗ Why We Normalize: The Problem with Raw Feature Scales\n",
    "\n",
    "In housing data, features like `Price` and `Lot_Size` can have values in the hundreds of thousands, while others like `Num_Bedrooms` range from 1 to 5. This creates problems when we use algorithms that depend on numeric magnitudes.\n",
    "\n",
    "---\n",
    "\n",
    "### ⚠️ What Goes Wrong Without Normalization\n",
    "\n",
    "---\n",
    "\n",
    "### 1. 🧭 K-Nearest Neighbors (KNN)\n",
    "\n",
    "KNN uses the **Euclidean distance** formula:\n",
    "\n",
    "$$\n",
    "d = \\sqrt{(x_1 - x_2)^2 + (y_1 - y_2)^2 + \\cdots}\n",
    "$$\n",
    "\n",
    "**Example:**\n",
    "\n",
    "- $ \\text{Price}_1 = 650{,}000, \\quad \\text{Price}_2 = 250{,}000 $\n",
    "- $ \\text{Bedrooms}_1 = 3, \\quad \\text{Bedrooms}_2 = 2 $\n",
    "\n",
    "Now compute squared differences:\n",
    "\n",
    "$$\n",
    "(\\text{Price}_1 - \\text{Price}_2)^2 = (650{,}000 - 250{,}000)^2 = (400{,}000)^2 = 1.6 \\times 10^{11}\n",
    "$$\n",
    "$$\n",
    "(\\text{Bedrooms}_1 - \\text{Bedrooms}_2)^2 = (3 - 2)^2 = 1\n",
    "$$\n",
    "\n",
    "➡️ **Price dominates the distance calculation**, making smaller features like `Bedrooms` irrelevant.\n",
    "\n",
    "---\n",
    "\n",
    "### 2. 📉 Linear Regression\n",
    "\n",
    "Linear regression estimates:\n",
    "\n",
    "$$\n",
    "y = \\beta_1 \\cdot \\text{Price} + \\beta_2 \\cdot \\text{Bedrooms} + \\beta_3 \\cdot \\text{Lot\\_Size} + \\epsilon\n",
    "$$\n",
    "\n",
    "If `Price` has very large values:\n",
    "- Gradient updates for $ \\beta_1 $ will be **much larger**\n",
    "- Gradient updates for $ \\beta_2 $ (Bedrooms) will be **very small**\n",
    "\n",
    "➡️ The model overfits high-magnitude features like `Price`.\n",
    "\n",
    "---\n",
    "\n",
    "### 3. 🧠 Neural Networks\n",
    "\n",
    "A single neuron computes:\n",
    "\n",
    "$$\n",
    "z = w_1 \\cdot \\text{Price} + w_2 \\cdot \\text{Bedrooms} + w_3 \\cdot \\text{Lot\\_Size}\n",
    "$$\n",
    "\n",
    "If:\n",
    "\n",
    "- $ \\text{Price} = 650{,}000 $\n",
    "- $ \\text{Bedrooms} = 3 $\n",
    "- $ \\text{Lot\\_Size} = 8{,}000 $\n",
    "\n",
    "Then:\n",
    "\n",
    "$$\n",
    "z \\approx w_1 \\cdot 650{,}000 + w_2 \\cdot 3 + w_3 \\cdot 8{,}000\n",
    "$$\n",
    "\n",
    "➡️ Even with equal weights, `Price` contributes **most of the activation**, making it difficult for the network to learn from other features.\n",
    "\n",
    "---\n",
    "\n",
    "### ✅ Solution: Min-Max Normalization\n",
    "\n",
    "We apply the transformation:\n",
    "\n",
    "$$\n",
    "x_{\\text{normalized}} = \\frac{x - x_{\\text{min}}}{x_{\\text{max}} - x_{\\text{min}}}\n",
    "$$\n",
    "\n",
    "This scales all features to a common range (typically $[0, 1]$).\n",
    "\n",
    "| Feature      | Raw Value | Min     | Max     | Normalized Value |\n",
    "|--------------|-----------|---------|---------|------------------|\n",
    "| Price        | 650,000   | 250,000 | 800,000 | 0.72             |\n",
    "| Bedrooms     | 3         | 1       | 5       | 0.50             |\n",
    "| Lot_Size     | 8,000     | 3,000   | 10,000  | 0.714            |\n",
    "\n",
    "➡️ Now, **each feature contributes fairly** to model training or distance comparisons."
   ]
  },
  {
   "cell_type": "markdown",
   "metadata": {},
   "source": [
    "---"
   ]
  },
  {
   "cell_type": "markdown",
   "metadata": {},
   "source": [
    "## 📌 Use Case: Housing Data\n",
    "We are normalizing features from a real estate dataset to prepare it for machine learning analysis."
   ]
  },
  {
   "cell_type": "code",
   "execution_count": 10,
   "metadata": {},
   "outputs": [
    {
     "data": {
      "application/vnd.microsoft.datawrangler.viewer.v0+json": {
       "columns": [
        {
         "name": "index",
         "rawType": "int64",
         "type": "integer"
        },
        {
         "name": "House_ID",
         "rawType": "object",
         "type": "string"
        },
        {
         "name": "Price",
         "rawType": "int64",
         "type": "integer"
        },
        {
         "name": "Area_sqft",
         "rawType": "int64",
         "type": "integer"
        },
        {
         "name": "Num_Bedrooms",
         "rawType": "int64",
         "type": "integer"
        },
        {
         "name": "Num_Bathrooms",
         "rawType": "int64",
         "type": "integer"
        },
        {
         "name": "Year_Built",
         "rawType": "int64",
         "type": "integer"
        },
        {
         "name": "Lot_Size",
         "rawType": "int64",
         "type": "integer"
        }
       ],
       "ref": "783ad6da-5643-435e-9d07-e28efb371c44",
       "rows": [
        [
         "0",
         "H100000",
         "574507",
         "1462",
         "3",
         "3",
         "2002",
         "4878"
        ],
        [
         "1",
         "H100001",
         "479260",
         "1727",
         "2",
         "2",
         "1979",
         "4943"
        ],
        [
         "2",
         "H100002",
         "597153",
         "1403",
         "5",
         "2",
         "1952",
         "5595"
        ],
        [
         "3",
         "H100003",
         "728454",
         "1646",
         "5",
         "2",
         "1992",
         "9305"
        ],
        [
         "4",
         "H100004",
         "464876",
         "853",
         "1",
         "1",
         "1956",
         "7407"
        ]
       ],
       "shape": {
        "columns": 7,
        "rows": 5
       }
      },
      "text/html": [
       "<div>\n",
       "<style scoped>\n",
       "    .dataframe tbody tr th:only-of-type {\n",
       "        vertical-align: middle;\n",
       "    }\n",
       "\n",
       "    .dataframe tbody tr th {\n",
       "        vertical-align: top;\n",
       "    }\n",
       "\n",
       "    .dataframe thead th {\n",
       "        text-align: right;\n",
       "    }\n",
       "</style>\n",
       "<table border=\"1\" class=\"dataframe\">\n",
       "  <thead>\n",
       "    <tr style=\"text-align: right;\">\n",
       "      <th></th>\n",
       "      <th>House_ID</th>\n",
       "      <th>Price</th>\n",
       "      <th>Area_sqft</th>\n",
       "      <th>Num_Bedrooms</th>\n",
       "      <th>Num_Bathrooms</th>\n",
       "      <th>Year_Built</th>\n",
       "      <th>Lot_Size</th>\n",
       "    </tr>\n",
       "  </thead>\n",
       "  <tbody>\n",
       "    <tr>\n",
       "      <th>0</th>\n",
       "      <td>H100000</td>\n",
       "      <td>574507</td>\n",
       "      <td>1462</td>\n",
       "      <td>3</td>\n",
       "      <td>3</td>\n",
       "      <td>2002</td>\n",
       "      <td>4878</td>\n",
       "    </tr>\n",
       "    <tr>\n",
       "      <th>1</th>\n",
       "      <td>H100001</td>\n",
       "      <td>479260</td>\n",
       "      <td>1727</td>\n",
       "      <td>2</td>\n",
       "      <td>2</td>\n",
       "      <td>1979</td>\n",
       "      <td>4943</td>\n",
       "    </tr>\n",
       "    <tr>\n",
       "      <th>2</th>\n",
       "      <td>H100002</td>\n",
       "      <td>597153</td>\n",
       "      <td>1403</td>\n",
       "      <td>5</td>\n",
       "      <td>2</td>\n",
       "      <td>1952</td>\n",
       "      <td>5595</td>\n",
       "    </tr>\n",
       "    <tr>\n",
       "      <th>3</th>\n",
       "      <td>H100003</td>\n",
       "      <td>728454</td>\n",
       "      <td>1646</td>\n",
       "      <td>5</td>\n",
       "      <td>2</td>\n",
       "      <td>1992</td>\n",
       "      <td>9305</td>\n",
       "    </tr>\n",
       "    <tr>\n",
       "      <th>4</th>\n",
       "      <td>H100004</td>\n",
       "      <td>464876</td>\n",
       "      <td>853</td>\n",
       "      <td>1</td>\n",
       "      <td>1</td>\n",
       "      <td>1956</td>\n",
       "      <td>7407</td>\n",
       "    </tr>\n",
       "  </tbody>\n",
       "</table>\n",
       "</div>"
      ],
      "text/plain": [
       "  House_ID   Price  Area_sqft  Num_Bedrooms  Num_Bathrooms  Year_Built  \\\n",
       "0  H100000  574507       1462             3              3        2002   \n",
       "1  H100001  479260       1727             2              2        1979   \n",
       "2  H100002  597153       1403             5              2        1952   \n",
       "3  H100003  728454       1646             5              2        1992   \n",
       "4  H100004  464876        853             1              1        1956   \n",
       "\n",
       "   Lot_Size  \n",
       "0      4878  \n",
       "1      4943  \n",
       "2      5595  \n",
       "3      9305  \n",
       "4      7407  "
      ]
     },
     "execution_count": 10,
     "metadata": {},
     "output_type": "execute_result"
    }
   ],
   "source": [
    "# 🔢 Load and display dataset\n",
    "import pandas as pd\n",
    "df = pd.read_csv('data/housing_data.csv')\n",
    "df.head()"
   ]
  },
  {
   "cell_type": "markdown",
   "metadata": {},
   "source": [
    "### 🔎 Step 1 — Implement Min-Max Normalization on the Housing Dataset"
   ]
  },
  {
   "cell_type": "code",
   "execution_count": 11,
   "metadata": {},
   "outputs": [],
   "source": [
    "# ✍️ Implement Min-Max Normalization manually here (no sklearn/numpy)\n",
    "# Normalize: Price, Area_sqft, Num_Bedrooms, Num_Bathrooms, Lot_Size\n",
    "import pandas as pd\n",
    "\n",
    "class MinMaxNormalizer:\n",
    "    def __init__(self, df):\n",
    "        self.df = df.copy()\n",
    "    \n",
    "    def normalize_column(self, column_name, new_column_name=None):\n",
    "        if column_name not in self.df.columns:\n",
    "            raise ValueError(f\"Column '{column_name}' does not exist in the DataFrame.\")\n",
    "        \n",
    "        col_min = self.df[column_name].min()\n",
    "        col_max = self.df[column_name].max()\n",
    "        \n",
    "        if col_max == col_min:\n",
    "            raise ValueError(f\"Cannot normalize column '{column_name}' because it has constant value.\")\n",
    "        \n",
    "        if not new_column_name:\n",
    "            new_column_name = f\"{column_name}_MinMax\"\n",
    "        \n",
    "        self.df[new_column_name] = (self.df[column_name] - col_min) / (col_max - col_min)\n",
    "        return self.df[[column_name, new_column_name]]\n",
    "    \n",
    "    def get_dataframe(self):\n",
    "        return self.df"
   ]
  },
  {
   "cell_type": "code",
   "execution_count": 14,
   "metadata": {},
   "outputs": [
    {
     "name": "stdout",
     "output_type": "stream",
     "text": [
      "    Values  Values_MinMax\n",
      "0        0           0.00\n",
      "1       77           0.77\n",
      "2       77           0.77\n",
      "3       78           0.78\n",
      "4       33           0.33\n",
      "5       67           0.67\n",
      "6       12           0.12\n",
      "7        0           0.00\n",
      "8      100           1.00\n",
      "9       55           0.55\n",
      "10      90           0.90\n",
      "11      65           0.65\n",
      "12      43           0.43\n",
      "13      34           0.34\n",
      "14      65           0.65\n",
      "15      78           0.78\n",
      "16      90           0.90\n",
      "17      43           0.43\n",
      "18      67           0.67\n",
      "19      89           0.89\n",
      "20      55           0.55\n",
      "21      32           0.32\n",
      "22      67           0.67\n",
      "23      88           0.88\n",
      "24      99           0.99\n",
      "25      22           0.22\n",
      "26      12           0.12\n",
      "27     100           1.00\n"
     ]
    }
   ],
   "source": [
    "# For testing the MinMaxNormalizer class\n",
    "my_data = [0,77 ,77, 78,33,67,12, 0, 100, 55,90,65,43,34,65,78,90,43,67,89,55,32,67,88,99,22,12,100]\n",
    "my_object = MinMaxNormalizer(pd.DataFrame(my_data, columns=['Values']))\n",
    "normalized_df = my_object.normalize_column('Values', 'Values_MinMax')\n",
    "print(normalized_df)"
   ]
  },
  {
   "cell_type": "code",
   "execution_count": 13,
   "metadata": {},
   "outputs": [
    {
     "name": "stdout",
     "output_type": "stream",
     "text": [
      "    Price  Price_MinMax\n",
      "0  574507      0.485226\n",
      "1  479260      0.387827\n",
      "2  597153      0.508384\n",
      "3  728454      0.642651\n",
      "4  464876      0.373119\n"
     ]
    }
   ],
   "source": [
    "# Load your data\n",
    "df = pd.read_csv(\"data/housing_data.csv\")\n",
    "\n",
    "# Create an instance of the normalizer\n",
    "normalizer = MinMaxNormalizer(df)\n",
    "\n",
    "# Normalize the 'Price' column\n",
    "normalized_price = normalizer.normalize_column('Price')\n",
    "\n",
    "# Display normalized values\n",
    "print(normalized_price.head())\n"
   ]
  },
  {
   "cell_type": "markdown",
   "metadata": {},
   "source": [
    "### 🔎 Talking Point 1 — [Insert your review comment here]\n",
    "\n",
    "Reviwed by:\n",
    "- Name\n",
    "- Name\n",
    "- Name"
   ]
  }
 ],
 "metadata": {
  "kernelspec": {
   "display_name": "base",
   "language": "python",
   "name": "python3"
  },
  "language_info": {
   "codemirror_mode": {
    "name": "ipython",
    "version": 3
   },
   "file_extension": ".py",
   "mimetype": "text/x-python",
   "name": "python",
   "nbconvert_exporter": "python",
   "pygments_lexer": "ipython3",
   "version": "3.12.7"
  }
 },
 "nbformat": 4,
 "nbformat_minor": 2
}
